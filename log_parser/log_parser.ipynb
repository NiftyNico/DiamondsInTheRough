{
 "cells": [
  {
   "cell_type": "code",
   "execution_count": 113,
   "metadata": {},
   "outputs": [],
   "source": [
    "import re\n",
    "import pandas as pd"
   ]
  },
  {
   "cell_type": "code",
   "execution_count": 114,
   "metadata": {},
   "outputs": [],
   "source": [
    "# pull the command from command.txt, if available\n",
    "# pull the training scores from log.txt\n",
    "# pull the evaluation scores from scores.txt"
   ]
  },
  {
   "cell_type": "code",
   "execution_count": 115,
   "metadata": {},
   "outputs": [],
   "source": [
    "filepath = '/home/shane/minerl/logs/shane_logs/'"
   ]
  },
  {
   "cell_type": "code",
   "execution_count": 116,
   "metadata": {},
   "outputs": [],
   "source": [
    "#s = \"[('average_q', 0.02713955), ('average_loss', 0.06054627889068797), ('cumulative_steps', 22183), ('n_updates', 4293), ('rlen', 22183)]\""
   ]
  },
  {
   "cell_type": "code",
   "execution_count": 117,
   "metadata": {},
   "outputs": [],
   "source": [
    "#eval(s)"
   ]
  },
  {
   "cell_type": "code",
   "execution_count": 118,
   "metadata": {},
   "outputs": [],
   "source": [
    "#s2 = \"[('average_q', nan), ('average_loss', nan), ('cumulative_steps', 2000), ('n_updates', 0), ('rlen', 2000)]\""
   ]
  },
  {
   "cell_type": "code",
   "execution_count": 119,
   "metadata": {},
   "outputs": [],
   "source": [
    "# df = pd.DataFrame(eval(s2)) problems with 'nan'\n",
    "# df = pd.read_csv(f\"{filepath}log.txt\")\n",
    "# readcsv doesnt work as lines are irregular. eval has problems b/c doesn't recognize nans\n",
    "#import ast\n",
    "#ast.literal_eval(s2) malformed ... try something else?"
   ]
  },
  {
   "cell_type": "code",
   "execution_count": 120,
   "metadata": {},
   "outputs": [],
   "source": [
    "# shell command attempt\n",
    "#log_file = f\"{filepath}log.txt\"\n",
    "#stat_file = f\"{filepath}statistics.txt\"\n",
    "#reward_file = f\"{filepath}rewards.txt\"\n",
    "#! grep 'statistics:' {log_file} > {stat_file}\n",
    "#! grep 'outdir:result' {log_file} > {reward_file}"
   ]
  },
  {
   "cell_type": "code",
   "execution_count": 121,
   "metadata": {},
   "outputs": [],
   "source": [
    "rx_dict = {\n",
    "    'statistics': re.compile(r\"statistics:(?P<statistics>.*)\\n\"),\n",
    "    'result': re.compile(r\"outdir:result/.* (?P<result>step:(\\d+) episode:(\\d+) R:(.*))\\n\")\n",
    "}\n",
    "def _parse_line(line):\n",
    "    for key, rx in rx_dict.items():\n",
    "        match = rx.search(line)\n",
    "        if match:\n",
    "            #print(key)\n",
    "            return key, match\n",
    "    return None, None"
   ]
  },
  {
   "cell_type": "code",
   "execution_count": 122,
   "metadata": {},
   "outputs": [],
   "source": [
    "statistics = []\n",
    "rewards = []\n",
    "\n",
    "with open(f\"{filepath}log.txt\", 'r') as f:\n",
    "    for line in f:\n",
    "        key, match = _parse_line(line)\n",
    "        if key == 'statistics':\n",
    "            # replace nan with 0\n",
    "            stats = match.group('statistics').replace('nan', '0.0')\n",
    "            # convert the list of tuples into a dict\n",
    "            statistics.append(dict(eval(stats)))\n",
    "            \n",
    "        if key == 'result':\n",
    "            result = match.group('result').replace('nan', '0.0').split()\n",
    "            rewards.append(dict(map(lambda s : s.split(':'), result)))\n",
    "            # the dict values are strings, should be int. convert here, or in dataframe?\n",
    "            #print(steps, episode, reward)\n",
    "            \n",
    "df = pd.DataFrame(rewards).apply(pd.to_numeric)\n",
    "#df2 = pd.DataFrame(statistics).set_index('cumulative_steps')\n",
    "\n",
    "#df.join(pd.DataFrame(statistics).set_index('cumulative_steps'), on='step')\n",
    "#df.join(df2, on='step')\n",
    "\n",
    "df = df.join(pd.DataFrame(statistics).set_index('cumulative_steps'), on='step')"
   ]
  },
  {
   "cell_type": "code",
   "execution_count": 123,
   "metadata": {},
   "outputs": [
    {
     "data": {
      "text/html": [
       "<div>\n",
       "<style scoped>\n",
       "    .dataframe tbody tr th:only-of-type {\n",
       "        vertical-align: middle;\n",
       "    }\n",
       "\n",
       "    .dataframe tbody tr th {\n",
       "        vertical-align: top;\n",
       "    }\n",
       "\n",
       "    .dataframe thead th {\n",
       "        text-align: right;\n",
       "    }\n",
       "</style>\n",
       "<table border=\"1\" class=\"dataframe\">\n",
       "  <thead>\n",
       "    <tr style=\"text-align: right;\">\n",
       "      <th></th>\n",
       "      <th>step</th>\n",
       "      <th>episode</th>\n",
       "      <th>R</th>\n",
       "      <th>average_q</th>\n",
       "      <th>average_loss</th>\n",
       "      <th>n_updates</th>\n",
       "      <th>rlen</th>\n",
       "    </tr>\n",
       "  </thead>\n",
       "  <tbody>\n",
       "    <tr>\n",
       "      <th>0</th>\n",
       "      <td>2000</td>\n",
       "      <td>0</td>\n",
       "      <td>0.0</td>\n",
       "      <td>0.000000</td>\n",
       "      <td>0.000000</td>\n",
       "      <td>0</td>\n",
       "      <td>2000</td>\n",
       "    </tr>\n",
       "    <tr>\n",
       "      <th>1</th>\n",
       "      <td>4000</td>\n",
       "      <td>1</td>\n",
       "      <td>1.0</td>\n",
       "      <td>0.000000</td>\n",
       "      <td>0.000000</td>\n",
       "      <td>0</td>\n",
       "      <td>4000</td>\n",
       "    </tr>\n",
       "    <tr>\n",
       "      <th>2</th>\n",
       "      <td>6000</td>\n",
       "      <td>2</td>\n",
       "      <td>0.0</td>\n",
       "      <td>0.103058</td>\n",
       "      <td>0.141552</td>\n",
       "      <td>248</td>\n",
       "      <td>6000</td>\n",
       "    </tr>\n",
       "    <tr>\n",
       "      <th>3</th>\n",
       "      <td>8000</td>\n",
       "      <td>3</td>\n",
       "      <td>0.0</td>\n",
       "      <td>0.153867</td>\n",
       "      <td>0.112361</td>\n",
       "      <td>748</td>\n",
       "      <td>8000</td>\n",
       "    </tr>\n",
       "    <tr>\n",
       "      <th>4</th>\n",
       "      <td>10000</td>\n",
       "      <td>4</td>\n",
       "      <td>0.0</td>\n",
       "      <td>0.107413</td>\n",
       "      <td>0.104383</td>\n",
       "      <td>1248</td>\n",
       "      <td>10000</td>\n",
       "    </tr>\n",
       "    <tr>\n",
       "      <th>...</th>\n",
       "      <td>...</td>\n",
       "      <td>...</td>\n",
       "      <td>...</td>\n",
       "      <td>...</td>\n",
       "      <td>...</td>\n",
       "      <td>...</td>\n",
       "      <td>...</td>\n",
       "    </tr>\n",
       "    <tr>\n",
       "      <th>856</th>\n",
       "      <td>1672621</td>\n",
       "      <td>856</td>\n",
       "      <td>47.0</td>\n",
       "      <td>2.917360</td>\n",
       "      <td>0.058864</td>\n",
       "      <td>416903</td>\n",
       "      <td>300000</td>\n",
       "    </tr>\n",
       "    <tr>\n",
       "      <th>857</th>\n",
       "      <td>1674621</td>\n",
       "      <td>857</td>\n",
       "      <td>55.0</td>\n",
       "      <td>2.839762</td>\n",
       "      <td>0.055643</td>\n",
       "      <td>417403</td>\n",
       "      <td>300000</td>\n",
       "    </tr>\n",
       "    <tr>\n",
       "      <th>858</th>\n",
       "      <td>1676621</td>\n",
       "      <td>858</td>\n",
       "      <td>50.0</td>\n",
       "      <td>2.947097</td>\n",
       "      <td>0.053313</td>\n",
       "      <td>417903</td>\n",
       "      <td>300000</td>\n",
       "    </tr>\n",
       "    <tr>\n",
       "      <th>859</th>\n",
       "      <td>1678621</td>\n",
       "      <td>859</td>\n",
       "      <td>53.0</td>\n",
       "      <td>2.896661</td>\n",
       "      <td>0.056821</td>\n",
       "      <td>418403</td>\n",
       "      <td>300000</td>\n",
       "    </tr>\n",
       "    <tr>\n",
       "      <th>860</th>\n",
       "      <td>1680533</td>\n",
       "      <td>860</td>\n",
       "      <td>64.0</td>\n",
       "      <td>2.927938</td>\n",
       "      <td>0.054587</td>\n",
       "      <td>418881</td>\n",
       "      <td>300000</td>\n",
       "    </tr>\n",
       "  </tbody>\n",
       "</table>\n",
       "<p>861 rows × 7 columns</p>\n",
       "</div>"
      ],
      "text/plain": [
       "        step  episode     R  average_q  average_loss  n_updates    rlen\n",
       "0       2000        0   0.0   0.000000      0.000000          0    2000\n",
       "1       4000        1   1.0   0.000000      0.000000          0    4000\n",
       "2       6000        2   0.0   0.103058      0.141552        248    6000\n",
       "3       8000        3   0.0   0.153867      0.112361        748    8000\n",
       "4      10000        4   0.0   0.107413      0.104383       1248   10000\n",
       "..       ...      ...   ...        ...           ...        ...     ...\n",
       "856  1672621      856  47.0   2.917360      0.058864     416903  300000\n",
       "857  1674621      857  55.0   2.839762      0.055643     417403  300000\n",
       "858  1676621      858  50.0   2.947097      0.053313     417903  300000\n",
       "859  1678621      859  53.0   2.896661      0.056821     418403  300000\n",
       "860  1680533      860  64.0   2.927938      0.054587     418881  300000\n",
       "\n",
       "[861 rows x 7 columns]"
      ]
     },
     "execution_count": 123,
     "metadata": {},
     "output_type": "execute_result"
    }
   ],
   "source": [
    "df"
   ]
  },
  {
   "cell_type": "code",
   "execution_count": null,
   "metadata": {},
   "outputs": [],
   "source": []
  }
 ],
 "metadata": {
  "kernelspec": {
   "display_name": "p36",
   "language": "python",
   "name": "p36"
  },
  "language_info": {
   "codemirror_mode": {
    "name": "ipython",
    "version": 3
   },
   "file_extension": ".py",
   "mimetype": "text/x-python",
   "name": "python",
   "nbconvert_exporter": "python",
   "pygments_lexer": "ipython3",
   "version": "3.6.12"
  }
 },
 "nbformat": 4,
 "nbformat_minor": 4
}
