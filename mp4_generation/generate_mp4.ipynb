{
 "cells": [
  {
   "cell_type": "code",
   "execution_count": 1,
   "metadata": {},
   "outputs": [],
   "source": [
    "import os\n",
    "import cv2\n",
    "from tqdm import tqdm\n",
    "import math\n",
    "from pathlib import Path\n",
    "import numpy as np"
   ]
  },
  {
   "cell_type": "code",
   "execution_count": 2,
   "metadata": {},
   "outputs": [],
   "source": [
    "BASE_PATH = '/home/basidio/Development/omscs/dl/DiamondsInTheRough/minerl2020_pdddqn_submission/modified_arch_never_frozen/85a45807b34265153c1859459809b9d49691a674-ffc71b04-3635a7a8/MineRLTreechopVectorObf-v0/monitor/'\n",
    "EPOCHS    = [0, 50, 100, 150, 200, 250, 300, 329]\n",
    "OUT_PATH  = '/home/basidio/Development/omscs/dl/DiamondsInTheRough/youtube_famous/videos/with_pretrained_cae.mp4'"
   ]
  },
  {
   "cell_type": "code",
   "execution_count": 3,
   "metadata": {},
   "outputs": [],
   "source": [
    "def get_mp4_path(epoch):\n",
    "    global BASE_PATH\n",
    "    filename = f\"openaigym.video.0.2872011.video{epoch:06d}.mp4\"\n",
    "    return os.path.join(BASE_PATH, filename)\n",
    "\n",
    "video_names_and_paths = [(f'Epoch {epoch}', get_mp4_path(epoch)) for epoch in EPOCHS]\n",
    "assert len(video_names_and_paths) > 0"
   ]
  },
  {
   "cell_type": "code",
   "execution_count": 4,
   "metadata": {},
   "outputs": [],
   "source": [
    "def get_layout(num_videos):\n",
    "    height  = int(math.sqrt(num_videos))\n",
    "    width = int(math.ceil(num_videos / height))\n",
    "    return height, width\n",
    "\n",
    "video_layout = get_layout(len(EPOCHS))"
   ]
  },
  {
   "cell_type": "code",
   "execution_count": 5,
   "metadata": {},
   "outputs": [],
   "source": [
    "def get_video_shape_fps_framecount_dtype(video_path):\n",
    "    cap = cv2.VideoCapture(video_path)\n",
    "    fps = cap.get(cv2.CAP_PROP_FPS)\n",
    "    frame_count = int(cap.get(cv2.CAP_PROP_FRAME_COUNT))\n",
    "    ret, frame = cap.read()\n",
    "    cap.release()\n",
    "    assert ret == True\n",
    "    return frame.shape, fps, frame_count, frame.dtype\n",
    "\n",
    "def get_out_shape(layout, subvideo_shape):\n",
    "    return subvideo_shape[0] * layout[0], subvideo_shape[1] * layout[1], subvideo_shape[2]\n",
    "\n",
    "def get_out_framecount(video_paths):\n",
    "    assert len(video_paths) > 0\n",
    "\n",
    "    max_fc = 0\n",
    "    for video_path in video_paths:\n",
    "        assert os.path.exists(video_path)\n",
    "        _, _, fc, _  = get_video_shape_fps_framecount_dtype(video_path)\n",
    "        if fc > max_fc:\n",
    "            max_fc = fc\n",
    "    assert max_fc > 0\n",
    "    return max_fc\n",
    "        \n",
    "\n",
    "subvideo_shape, out_fps, _, out_dtype = get_video_shape_fps_framecount_dtype(video_names_and_paths[0][1])\n",
    "out_shape                             = get_out_shape(video_layout, subvideo_shape)\n",
    "out_framecount                        = get_out_framecount(list(zip(*video_names_and_paths))[1])"
   ]
  },
  {
   "cell_type": "code",
   "execution_count": 16,
   "metadata": {},
   "outputs": [],
   "source": [
    "def generate_frame(sub_frames, video_layout):\n",
    "    assert len(sub_frames) > 0\n",
    "    subframe_h, subframe_w, _ = sub_frames[0].shape\n",
    "    frame_dtype               = sub_frames[0].dtype\n",
    "    frame_shape = get_out_shape(video_layout, sub_frames[0].shape)\n",
    "    frame = np.zeros(frame_shape, frame_dtype)\n",
    "    \n",
    "    row_i, col_i = 0, 0\n",
    "    for sub_frame in sub_frames:\n",
    "        start_h = row_i * subframe_h\n",
    "        end_h   = start_h + subframe_h\n",
    "        start_w = col_i * subframe_w\n",
    "        end_w   = start_w + subframe_w\n",
    "        \n",
    "        frame[start_h:end_h, start_w:end_w, :] = sub_frame\n",
    "        \n",
    "        col_i = col_i + 1\n",
    "        if col_i == video_layout[1]:\n",
    "            col_i = 0\n",
    "            row_i += 1\n",
    "\n",
    "    return frame   \n",
    "\n",
    "def write_text(label, subframe):\n",
    "    font = cv2.FONT_HERSHEY_SIMPLEX \n",
    "\n",
    "    org       = (1, 10) \n",
    "    fontScale = 0.2\n",
    "    color     = (255, 0, 255) # Purple\n",
    "    thickness = 1\n",
    "\n",
    "    subframe_with_text = cv2.putText(subframe, label, org, font, fontScale, color, thickness, cv2.LINE_AA)\n",
    "    return subframe_with_text\n",
    "\n",
    "def generate_subframe(label, cap, subvideo_shape, out_dtype):\n",
    "    ret, frame = cap.read()\n",
    "    out_frame  = frame if ret else np.zeros(subvideo_shape, dtype=out_dtype)\n",
    "    out_frame  = write_text(label, out_frame)\n",
    "    return out_frame"
   ]
  },
  {
   "cell_type": "code",
   "execution_count": 17,
   "metadata": {},
   "outputs": [
    {
     "name": "stderr",
     "output_type": "stream",
     "text": [
      "  0%|          | 1/8001 [00:00<13:33,  9.84it/s]"
     ]
    },
    {
     "name": "stdout",
     "output_type": "stream",
     "text": [
      "Writing frames to /home/basidio/Development/omscs/dl/DiamondsInTheRough/youtube_famous/videos/with_pretrained_cae.mp4\n"
     ]
    },
    {
     "name": "stderr",
     "output_type": "stream",
     "text": [
      "100%|██████████| 8001/8001 [00:07<00:00, 1067.76it/s]\n"
     ]
    }
   ],
   "source": [
    "containing_dir = Path(OUT_PATH).parent\n",
    "os.makedirs(containing_dir, exist_ok=True)\n",
    "if os.path.exists(OUT_PATH):\n",
    "    os.remove(OUT_PATH)\n",
    "out_writer = cv2.VideoWriter(OUT_PATH, cv2.VideoWriter_fourcc(*'MP4V'), out_fps, (out_shape[1], out_shape[0]))\n",
    "\n",
    "print(f'Writing frames to {OUT_PATH}')\n",
    "\n",
    "video_names_and_caps = [(name, cv2.VideoCapture(mp4_path)) for name, mp4_path in video_names_and_paths]\n",
    "for _ in tqdm(range(0, out_framecount)):\n",
    "    subframes = np.array([generate_subframe(label, cap, subvideo_shape, out_dtype) for label, cap in video_names_and_caps])\n",
    "    frame     = generate_frame(subframes, video_layout)\n",
    "    out_writer.write(frame)\n",
    "\n",
    "out_writer.release()\n",
    "for _, cap in video_names_and_caps:\n",
    "    cap.release()"
   ]
  },
  {
   "cell_type": "code",
   "execution_count": null,
   "metadata": {},
   "outputs": [],
   "source": []
  }
 ],
 "metadata": {
  "kernelspec": {
   "display_name": "Python 3",
   "language": "python",
   "name": "python3"
  },
  "language_info": {
   "codemirror_mode": {
    "name": "ipython",
    "version": 3
   },
   "file_extension": ".py",
   "mimetype": "text/x-python",
   "name": "python",
   "nbconvert_exporter": "python",
   "pygments_lexer": "ipython3",
   "version": "3.8.2"
  }
 },
 "nbformat": 4,
 "nbformat_minor": 4
}
